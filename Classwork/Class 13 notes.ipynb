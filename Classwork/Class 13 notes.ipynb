{
 "cells": [
  {
   "cell_type": "code",
   "execution_count": 94,
   "metadata": {},
   "outputs": [],
   "source": [
    "import pandas as pd\n",
    "import numpy as np\n",
    "import seaborn as sns\n",
    "import matplotlib.pyplot as plt\n",
    "%matplotlib inline\n",
    "plt.style.use(\"fivethirtyeight\")"
   ]
  },
  {
   "cell_type": "code",
   "execution_count": null,
   "metadata": {},
   "outputs": [],
   "source": []
  },
  {
   "cell_type": "code",
   "execution_count": 17,
   "metadata": {},
   "outputs": [
    {
     "data": {
      "text/html": [
       "<div>\n",
       "<style scoped>\n",
       "    .dataframe tbody tr th:only-of-type {\n",
       "        vertical-align: middle;\n",
       "    }\n",
       "\n",
       "    .dataframe tbody tr th {\n",
       "        vertical-align: top;\n",
       "    }\n",
       "\n",
       "    .dataframe thead th {\n",
       "        text-align: right;\n",
       "    }\n",
       "</style>\n",
       "<table border=\"1\" class=\"dataframe\">\n",
       "  <thead>\n",
       "    <tr style=\"text-align: right;\">\n",
       "      <th></th>\n",
       "      <th>CRIM</th>\n",
       "      <th>ZN</th>\n",
       "      <th>INDUS</th>\n",
       "      <th>CHAS</th>\n",
       "      <th>NOX</th>\n",
       "      <th>RM</th>\n",
       "      <th>AGE</th>\n",
       "      <th>DIS</th>\n",
       "      <th>RAD</th>\n",
       "      <th>TAX</th>\n",
       "      <th>PTRATIO</th>\n",
       "      <th>B</th>\n",
       "      <th>LSTAT</th>\n",
       "      <th>PRICE</th>\n",
       "    </tr>\n",
       "  </thead>\n",
       "  <tbody>\n",
       "    <tr>\n",
       "      <th>0</th>\n",
       "      <td>0.00632</td>\n",
       "      <td>18.0</td>\n",
       "      <td>2.31</td>\n",
       "      <td>0</td>\n",
       "      <td>0.538</td>\n",
       "      <td>6.575</td>\n",
       "      <td>65.2</td>\n",
       "      <td>4.0900</td>\n",
       "      <td>1</td>\n",
       "      <td>296</td>\n",
       "      <td>15.3</td>\n",
       "      <td>396.90</td>\n",
       "      <td>4.98</td>\n",
       "      <td>24.0</td>\n",
       "    </tr>\n",
       "    <tr>\n",
       "      <th>1</th>\n",
       "      <td>0.02731</td>\n",
       "      <td>0.0</td>\n",
       "      <td>7.07</td>\n",
       "      <td>0</td>\n",
       "      <td>0.469</td>\n",
       "      <td>6.421</td>\n",
       "      <td>78.9</td>\n",
       "      <td>4.9671</td>\n",
       "      <td>2</td>\n",
       "      <td>242</td>\n",
       "      <td>17.8</td>\n",
       "      <td>396.90</td>\n",
       "      <td>9.14</td>\n",
       "      <td>21.6</td>\n",
       "    </tr>\n",
       "    <tr>\n",
       "      <th>2</th>\n",
       "      <td>0.02729</td>\n",
       "      <td>0.0</td>\n",
       "      <td>7.07</td>\n",
       "      <td>0</td>\n",
       "      <td>0.469</td>\n",
       "      <td>7.185</td>\n",
       "      <td>61.1</td>\n",
       "      <td>4.9671</td>\n",
       "      <td>2</td>\n",
       "      <td>242</td>\n",
       "      <td>17.8</td>\n",
       "      <td>392.83</td>\n",
       "      <td>4.03</td>\n",
       "      <td>34.7</td>\n",
       "    </tr>\n",
       "    <tr>\n",
       "      <th>3</th>\n",
       "      <td>0.03237</td>\n",
       "      <td>0.0</td>\n",
       "      <td>2.18</td>\n",
       "      <td>0</td>\n",
       "      <td>0.458</td>\n",
       "      <td>6.998</td>\n",
       "      <td>45.8</td>\n",
       "      <td>6.0622</td>\n",
       "      <td>3</td>\n",
       "      <td>222</td>\n",
       "      <td>18.7</td>\n",
       "      <td>394.63</td>\n",
       "      <td>2.94</td>\n",
       "      <td>33.4</td>\n",
       "    </tr>\n",
       "    <tr>\n",
       "      <th>4</th>\n",
       "      <td>0.06905</td>\n",
       "      <td>0.0</td>\n",
       "      <td>2.18</td>\n",
       "      <td>0</td>\n",
       "      <td>0.458</td>\n",
       "      <td>7.147</td>\n",
       "      <td>54.2</td>\n",
       "      <td>6.0622</td>\n",
       "      <td>3</td>\n",
       "      <td>222</td>\n",
       "      <td>18.7</td>\n",
       "      <td>396.90</td>\n",
       "      <td>5.33</td>\n",
       "      <td>36.2</td>\n",
       "    </tr>\n",
       "  </tbody>\n",
       "</table>\n",
       "</div>"
      ],
      "text/plain": [
       "      CRIM    ZN  INDUS  CHAS    NOX     RM   AGE     DIS  RAD  TAX  PTRATIO  \\\n",
       "0  0.00632  18.0   2.31     0  0.538  6.575  65.2  4.0900    1  296     15.3   \n",
       "1  0.02731   0.0   7.07     0  0.469  6.421  78.9  4.9671    2  242     17.8   \n",
       "2  0.02729   0.0   7.07     0  0.469  7.185  61.1  4.9671    2  242     17.8   \n",
       "3  0.03237   0.0   2.18     0  0.458  6.998  45.8  6.0622    3  222     18.7   \n",
       "4  0.06905   0.0   2.18     0  0.458  7.147  54.2  6.0622    3  222     18.7   \n",
       "\n",
       "        B  LSTAT  PRICE  \n",
       "0  396.90   4.98   24.0  \n",
       "1  396.90   9.14   21.6  \n",
       "2  392.83   4.03   34.7  \n",
       "3  394.63   2.94   33.4  \n",
       "4  396.90   5.33   36.2  "
      ]
     },
     "execution_count": 17,
     "metadata": {},
     "output_type": "execute_result"
    }
   ],
   "source": [
    "url = 'C:/Users/James.Kelly/DAT-06-24/class material/Unit 3/data/boston_housing.csv'\n",
    "#df = pd.read_csv(url, index_col='datetime', parse_dates=True)\n",
    "df = pd.read_csv(url)\n",
    "df.head()"
   ]
  },
  {
   "cell_type": "code",
   "execution_count": 21,
   "metadata": {},
   "outputs": [
    {
     "name": "stdout",
     "output_type": "stream",
     "text": [
      "0.7406426641094094\n",
      "[('CRIM', -0.9006815457331921), ('ZN', 0.9929592634161717), ('INDUS', 0.13760287819389203), ('CHAS', 0.6817987675536928), ('NOX', -2.057906307405253), ('RM', 2.6701965026328542), ('AGE', 0.017537263642767215), ('DIS', -3.0838783940445), ('RAD', 2.582440122206411), ('TAX', -0.8344591947592396), ('PTRATIO', -2.0467856827882445), ('B', 0.5744594083197359), ('LSTAT', -3.6522886279094293), ('PREDICTION', 1.4127723943157482)]\n"
     ]
    }
   ],
   "source": [
    "#using all the variables\n",
    "\n",
    "X = df.loc[:, df.columns != 'PRICE']\n",
    "y = df['PRICE']\n",
    "\n",
    "X_std = (X - X.mean()) / X.std()\n",
    "\n",
    "from sklearn.linear_model import LinearRegression\n",
    "lr = LinearRegression()\n",
    "lr.fit(X_std, y)\n",
    "print(lr.score(X_std, y))\n",
    "print(list(zip(X, lr.coef_)))"
   ]
  },
  {
   "cell_type": "code",
   "execution_count": 22,
   "metadata": {},
   "outputs": [
    {
     "data": {
      "text/html": [
       "<div>\n",
       "<style scoped>\n",
       "    .dataframe tbody tr th:only-of-type {\n",
       "        vertical-align: middle;\n",
       "    }\n",
       "\n",
       "    .dataframe tbody tr th {\n",
       "        vertical-align: top;\n",
       "    }\n",
       "\n",
       "    .dataframe thead th {\n",
       "        text-align: right;\n",
       "    }\n",
       "</style>\n",
       "<table border=\"1\" class=\"dataframe\">\n",
       "  <thead>\n",
       "    <tr style=\"text-align: right;\">\n",
       "      <th></th>\n",
       "      <th>Variable</th>\n",
       "      <th>Weight</th>\n",
       "    </tr>\n",
       "  </thead>\n",
       "  <tbody>\n",
       "    <tr>\n",
       "      <th>5</th>\n",
       "      <td>RM</td>\n",
       "      <td>2.670197</td>\n",
       "    </tr>\n",
       "    <tr>\n",
       "      <th>8</th>\n",
       "      <td>RAD</td>\n",
       "      <td>2.582440</td>\n",
       "    </tr>\n",
       "    <tr>\n",
       "      <th>13</th>\n",
       "      <td>PREDICTION</td>\n",
       "      <td>1.412772</td>\n",
       "    </tr>\n",
       "    <tr>\n",
       "      <th>1</th>\n",
       "      <td>ZN</td>\n",
       "      <td>0.992959</td>\n",
       "    </tr>\n",
       "    <tr>\n",
       "      <th>3</th>\n",
       "      <td>CHAS</td>\n",
       "      <td>0.681799</td>\n",
       "    </tr>\n",
       "    <tr>\n",
       "      <th>11</th>\n",
       "      <td>B</td>\n",
       "      <td>0.574459</td>\n",
       "    </tr>\n",
       "    <tr>\n",
       "      <th>2</th>\n",
       "      <td>INDUS</td>\n",
       "      <td>0.137603</td>\n",
       "    </tr>\n",
       "    <tr>\n",
       "      <th>6</th>\n",
       "      <td>AGE</td>\n",
       "      <td>0.017537</td>\n",
       "    </tr>\n",
       "    <tr>\n",
       "      <th>9</th>\n",
       "      <td>TAX</td>\n",
       "      <td>-0.834459</td>\n",
       "    </tr>\n",
       "    <tr>\n",
       "      <th>0</th>\n",
       "      <td>CRIM</td>\n",
       "      <td>-0.900682</td>\n",
       "    </tr>\n",
       "    <tr>\n",
       "      <th>10</th>\n",
       "      <td>PTRATIO</td>\n",
       "      <td>-2.046786</td>\n",
       "    </tr>\n",
       "    <tr>\n",
       "      <th>4</th>\n",
       "      <td>NOX</td>\n",
       "      <td>-2.057906</td>\n",
       "    </tr>\n",
       "    <tr>\n",
       "      <th>7</th>\n",
       "      <td>DIS</td>\n",
       "      <td>-3.083878</td>\n",
       "    </tr>\n",
       "    <tr>\n",
       "      <th>12</th>\n",
       "      <td>LSTAT</td>\n",
       "      <td>-3.652289</td>\n",
       "    </tr>\n",
       "  </tbody>\n",
       "</table>\n",
       "</div>"
      ],
      "text/plain": [
       "      Variable    Weight\n",
       "5           RM  2.670197\n",
       "8          RAD  2.582440\n",
       "13  PREDICTION  1.412772\n",
       "1           ZN  0.992959\n",
       "3         CHAS  0.681799\n",
       "11           B  0.574459\n",
       "2        INDUS  0.137603\n",
       "6          AGE  0.017537\n",
       "9          TAX -0.834459\n",
       "0         CRIM -0.900682\n",
       "10     PTRATIO -2.046786\n",
       "4          NOX -2.057906\n",
       "7          DIS -3.083878\n",
       "12       LSTAT -3.652289"
      ]
     },
     "execution_count": 22,
     "metadata": {},
     "output_type": "execute_result"
    }
   ],
   "source": [
    "coeffs = pd.DataFrame({\n",
    "    'Variable': X_std.columns,\n",
    "    'Weight'  : lr.coef_\n",
    "}).sort_values(by='Weight', ascending=False)\n",
    "coeffs"
   ]
  },
  {
   "cell_type": "code",
   "execution_count": null,
   "metadata": {},
   "outputs": [],
   "source": [
    "#cross validation\n",
    "#Training your data (bias (underfitting)  vs. variance (overfitting) tradeoff)"
   ]
  },
  {
   "cell_type": "code",
   "execution_count": 23,
   "metadata": {},
   "outputs": [],
   "source": [
    "df['PREDICTION'] = lr.predict(X_std)"
   ]
  },
  {
   "cell_type": "code",
   "execution_count": 24,
   "metadata": {},
   "outputs": [
    {
     "data": {
      "text/html": [
       "<div>\n",
       "<style scoped>\n",
       "    .dataframe tbody tr th:only-of-type {\n",
       "        vertical-align: middle;\n",
       "    }\n",
       "\n",
       "    .dataframe tbody tr th {\n",
       "        vertical-align: top;\n",
       "    }\n",
       "\n",
       "    .dataframe thead th {\n",
       "        text-align: right;\n",
       "    }\n",
       "</style>\n",
       "<table border=\"1\" class=\"dataframe\">\n",
       "  <thead>\n",
       "    <tr style=\"text-align: right;\">\n",
       "      <th></th>\n",
       "      <th>CRIM</th>\n",
       "      <th>ZN</th>\n",
       "      <th>INDUS</th>\n",
       "      <th>CHAS</th>\n",
       "      <th>NOX</th>\n",
       "      <th>RM</th>\n",
       "      <th>AGE</th>\n",
       "      <th>DIS</th>\n",
       "      <th>RAD</th>\n",
       "      <th>TAX</th>\n",
       "      <th>PTRATIO</th>\n",
       "      <th>B</th>\n",
       "      <th>LSTAT</th>\n",
       "      <th>PRICE</th>\n",
       "      <th>PREDICTION</th>\n",
       "    </tr>\n",
       "  </thead>\n",
       "  <tbody>\n",
       "    <tr>\n",
       "      <th>0</th>\n",
       "      <td>0.00632</td>\n",
       "      <td>18.0</td>\n",
       "      <td>2.31</td>\n",
       "      <td>0</td>\n",
       "      <td>0.538</td>\n",
       "      <td>6.575</td>\n",
       "      <td>65.2</td>\n",
       "      <td>4.0900</td>\n",
       "      <td>1</td>\n",
       "      <td>296</td>\n",
       "      <td>15.3</td>\n",
       "      <td>396.90</td>\n",
       "      <td>4.98</td>\n",
       "      <td>24.0</td>\n",
       "      <td>30.003843</td>\n",
       "    </tr>\n",
       "    <tr>\n",
       "      <th>1</th>\n",
       "      <td>0.02731</td>\n",
       "      <td>0.0</td>\n",
       "      <td>7.07</td>\n",
       "      <td>0</td>\n",
       "      <td>0.469</td>\n",
       "      <td>6.421</td>\n",
       "      <td>78.9</td>\n",
       "      <td>4.9671</td>\n",
       "      <td>2</td>\n",
       "      <td>242</td>\n",
       "      <td>17.8</td>\n",
       "      <td>396.90</td>\n",
       "      <td>9.14</td>\n",
       "      <td>21.6</td>\n",
       "      <td>25.025562</td>\n",
       "    </tr>\n",
       "    <tr>\n",
       "      <th>2</th>\n",
       "      <td>0.02729</td>\n",
       "      <td>0.0</td>\n",
       "      <td>7.07</td>\n",
       "      <td>0</td>\n",
       "      <td>0.469</td>\n",
       "      <td>7.185</td>\n",
       "      <td>61.1</td>\n",
       "      <td>4.9671</td>\n",
       "      <td>2</td>\n",
       "      <td>242</td>\n",
       "      <td>17.8</td>\n",
       "      <td>392.83</td>\n",
       "      <td>4.03</td>\n",
       "      <td>34.7</td>\n",
       "      <td>30.567597</td>\n",
       "    </tr>\n",
       "    <tr>\n",
       "      <th>3</th>\n",
       "      <td>0.03237</td>\n",
       "      <td>0.0</td>\n",
       "      <td>2.18</td>\n",
       "      <td>0</td>\n",
       "      <td>0.458</td>\n",
       "      <td>6.998</td>\n",
       "      <td>45.8</td>\n",
       "      <td>6.0622</td>\n",
       "      <td>3</td>\n",
       "      <td>222</td>\n",
       "      <td>18.7</td>\n",
       "      <td>394.63</td>\n",
       "      <td>2.94</td>\n",
       "      <td>33.4</td>\n",
       "      <td>28.607036</td>\n",
       "    </tr>\n",
       "    <tr>\n",
       "      <th>4</th>\n",
       "      <td>0.06905</td>\n",
       "      <td>0.0</td>\n",
       "      <td>2.18</td>\n",
       "      <td>0</td>\n",
       "      <td>0.458</td>\n",
       "      <td>7.147</td>\n",
       "      <td>54.2</td>\n",
       "      <td>6.0622</td>\n",
       "      <td>3</td>\n",
       "      <td>222</td>\n",
       "      <td>18.7</td>\n",
       "      <td>396.90</td>\n",
       "      <td>5.33</td>\n",
       "      <td>36.2</td>\n",
       "      <td>27.943524</td>\n",
       "    </tr>\n",
       "  </tbody>\n",
       "</table>\n",
       "</div>"
      ],
      "text/plain": [
       "      CRIM    ZN  INDUS  CHAS    NOX     RM   AGE     DIS  RAD  TAX  PTRATIO  \\\n",
       "0  0.00632  18.0   2.31     0  0.538  6.575  65.2  4.0900    1  296     15.3   \n",
       "1  0.02731   0.0   7.07     0  0.469  6.421  78.9  4.9671    2  242     17.8   \n",
       "2  0.02729   0.0   7.07     0  0.469  7.185  61.1  4.9671    2  242     17.8   \n",
       "3  0.03237   0.0   2.18     0  0.458  6.998  45.8  6.0622    3  222     18.7   \n",
       "4  0.06905   0.0   2.18     0  0.458  7.147  54.2  6.0622    3  222     18.7   \n",
       "\n",
       "        B  LSTAT  PRICE  PREDICTION  \n",
       "0  396.90   4.98   24.0   30.003843  \n",
       "1  396.90   9.14   21.6   25.025562  \n",
       "2  392.83   4.03   34.7   30.567597  \n",
       "3  394.63   2.94   33.4   28.607036  \n",
       "4  396.90   5.33   36.2   27.943524  "
      ]
     },
     "execution_count": 24,
     "metadata": {},
     "output_type": "execute_result"
    }
   ],
   "source": [
    "df.head()"
   ]
  },
  {
   "cell_type": "code",
   "execution_count": 26,
   "metadata": {},
   "outputs": [
    {
     "data": {
      "image/png": "[encoded data removed]",
      "text/plain": [
       "<Figure size 360x360 with 1 Axes>"
      ]
     },
     "metadata": {
      "needs_background": "light"
     },
     "output_type": "display_data"
    }
   ],
   "source": [
    "sns.lmplot(x='PRICE', y='PREDICTION', data=df);"
   ]
  },
  {
   "cell_type": "code",
   "execution_count": 70,
   "metadata": {},
   "outputs": [],
   "source": [
    "from sklearn.model_selection import train_test_split\n",
    "\n",
    "X_train, X_test, y_train, y_test = train_test_split(X_std, y, test_size=0.2, random_state=2019)"
   ]
  },
  {
   "cell_type": "code",
   "execution_count": 32,
   "metadata": {},
   "outputs": [
    {
     "data": {
      "text/plain": [
       "(102, 14)"
      ]
     },
     "execution_count": 32,
     "metadata": {},
     "output_type": "execute_result"
    }
   ],
   "source": [
    "X_train.shape\n",
    "X_test.shape"
   ]
  },
  {
   "cell_type": "code",
   "execution_count": 36,
   "metadata": {},
   "outputs": [
    {
     "data": {
      "text/plain": [
       "(102,)"
      ]
     },
     "execution_count": 36,
     "metadata": {},
     "output_type": "execute_result"
    }
   ],
   "source": [
    "y_train.shape\n",
    "y_test.shape"
   ]
  },
  {
   "cell_type": "code",
   "execution_count": 38,
   "metadata": {},
   "outputs": [
    {
     "name": "stdout",
     "output_type": "stream",
     "text": [
      "Training Score:  0.7581321815069204 test score:  0.6174065999127879\n"
     ]
    }
   ],
   "source": [
    "print('Training Score: ', lr.score(X_train,y_train), \"test score: \" , lr.score(X_test, y_test))"
   ]
  },
  {
   "cell_type": "code",
   "execution_count": 37,
   "metadata": {},
   "outputs": [
    {
     "name": "stdout",
     "output_type": "stream",
     "text": [
      "0.7581321815069204 0.6174065999127879\n"
     ]
    }
   ],
   "source": [
    "lr.fit(X_train, y_train)\n",
    "print(lr.score(X_train, y_train), lr.score(X_test, y_test))"
   ]
  },
  {
   "cell_type": "code",
   "execution_count": null,
   "metadata": {},
   "outputs": [],
   "source": [
    "#Kfold cross vaildation\n",
    "#Only happens on the training set, training splits don't change between rounds"
   ]
  },
  {
   "cell_type": "code",
   "execution_count": 71,
   "metadata": {},
   "outputs": [],
   "source": [
    "from sklearn.model_selection import cross_val_score\n",
    "\n",
    "scores = cross_val_score(estimator=lr,X=X_train,y=y_train,cv=10)"
   ]
  },
  {
   "cell_type": "code",
   "execution_count": 72,
   "metadata": {},
   "outputs": [
    {
     "data": {
      "text/plain": [
       "array([0.74469313, 0.72965599, 0.78482663, 0.65675571, 0.66315517,\n",
       "       0.78283033, 0.81788242, 0.79596427, 0.5480151 , 0.75188945])"
      ]
     },
     "execution_count": 72,
     "metadata": {},
     "output_type": "execute_result"
    }
   ],
   "source": [
    "scores"
   ]
  },
  {
   "cell_type": "code",
   "execution_count": 73,
   "metadata": {},
   "outputs": [
    {
     "data": {
      "text/plain": [
       "0.7275668192780947"
      ]
     },
     "execution_count": 73,
     "metadata": {},
     "output_type": "execute_result"
    }
   ],
   "source": [
    "np.mean(scores)"
   ]
  },
  {
   "cell_type": "code",
   "execution_count": 74,
   "metadata": {},
   "outputs": [
    {
     "data": {
      "text/plain": [
       "0.07839580317172476"
      ]
     },
     "execution_count": 74,
     "metadata": {},
     "output_type": "execute_result"
    }
   ],
   "source": [
    "np.std(scores)"
   ]
  },
  {
   "cell_type": "code",
   "execution_count": 49,
   "metadata": {},
   "outputs": [],
   "source": [
    "#log transforamtions\n",
    "y_log = np.log1p(y)"
   ]
  },
  {
   "cell_type": "code",
   "execution_count": 54,
   "metadata": {},
   "outputs": [
    {
     "data": {
      "image/png": "[encoded data removed]",
      "text/plain": [
       "<Figure size 432x288 with 1 Axes>"
      ]
     },
     "metadata": {
      "needs_background": "light"
     },
     "output_type": "display_data"
    }
   ],
   "source": [
    "y_log.hist();"
   ]
  },
  {
   "cell_type": "code",
   "execution_count": 55,
   "metadata": {},
   "outputs": [
    {
     "data": {
      "image/png": "[encoded data removed]",
      "text/plain": [
       "<Figure size 432x288 with 1 Axes>"
      ]
     },
     "metadata": {
      "needs_background": "light"
     },
     "output_type": "display_data"
    }
   ],
   "source": [
    "y.hist();"
   ]
  },
  {
   "cell_type": "code",
   "execution_count": 58,
   "metadata": {},
   "outputs": [],
   "source": [
    "X_train2, X_test2, y_train2, y_test2 = train_test_split(X_std, y_log, test_size=0.2, random_state=2019)"
   ]
  },
  {
   "cell_type": "code",
   "execution_count": 64,
   "metadata": {},
   "outputs": [],
   "source": [
    "scores2 = cross_val_score(estimator=lr,X=X_train2,y=y_train2,cv=10)"
   ]
  },
  {
   "cell_type": "code",
   "execution_count": 65,
   "metadata": {},
   "outputs": [
    {
     "data": {
      "text/plain": [
       "array([0.81066965, 0.78080019, 0.78969268, 0.72301188, 0.72305225,\n",
       "       0.81510248, 0.84755808, 0.81720277, 0.69862075, 0.79529768])"
      ]
     },
     "execution_count": 65,
     "metadata": {},
     "output_type": "execute_result"
    }
   ],
   "source": [
    "scores2"
   ]
  },
  {
   "cell_type": "code",
   "execution_count": 79,
   "metadata": {},
   "outputs": [
    {
     "name": "stdout",
     "output_type": "stream",
     "text": [
      "no log:  0.7275668192780947\n",
      "log y:  0.7801008400068823\n"
     ]
    }
   ],
   "source": [
    "print('no log: ',np.mean(scores))\n",
    "print('log y: ',np.mean(scores2))"
   ]
  },
  {
   "cell_type": "code",
   "execution_count": 80,
   "metadata": {},
   "outputs": [
    {
     "name": "stdout",
     "output_type": "stream",
     "text": [
      "no log: 0.07839580317172476\n",
      "log y:  0.046435688027733686\n"
     ]
    }
   ],
   "source": [
    "print('no log:',np.std(scores))\n",
    "print('log y: ',np.std(scores2))"
   ]
  },
  {
   "cell_type": "code",
   "execution_count": 85,
   "metadata": {},
   "outputs": [
    {
     "data": {
      "text/plain": [
       "array([24.6159128 , 23.66657294, 18.05423825, 19.78839302, 25.00326556,\n",
       "       18.29208278,  5.65450289, 42.32610182, 21.84457369, 23.44283014,\n",
       "       27.99961052, 15.06538651, 24.66413964, 21.86983267, 21.18280393,\n",
       "        8.20676789, 27.27751559, 17.11766763,  9.30277911,  4.64074773,\n",
       "       23.96465392, 19.15813563, 23.22264072, 37.12245301, 34.5958727 ,\n",
       "       25.310643  , 23.21419344, 19.94287796, 34.56119627, 18.21561024,\n",
       "       20.99382502, 18.02042065, 17.85479738, 18.70838873, 24.67672811,\n",
       "       24.8784294 , 22.90070187, 25.23214202, 24.58693023, 22.70176952,\n",
       "       37.21030535, 22.38318857, 19.54245965, 14.54469681, 20.9460741 ,\n",
       "       32.81601454,  4.68197378, 28.73413744, 13.3140138 , 12.66796354,\n",
       "       25.60997412, 10.46928862, 17.49502678, 19.29869744, 25.49557342,\n",
       "       22.88280437, 38.63070222, 18.32744238, 24.21834539, 13.17395042,\n",
       "       31.40148349, 24.54087038, 21.38249287, 24.48155379, 13.54383684,\n",
       "       15.49711596, 26.01854476, 10.74933659, 26.55124979, 17.6368736 ,\n",
       "       23.68076706, 12.7679952 , 18.70950418, 20.60775767, 37.6121675 ,\n",
       "       30.91023652, 20.99846043, 13.25118263, 25.05043827, 32.56717165,\n",
       "       20.49803278,  6.1078424 , 24.27879625, 24.51137681, 23.70387987,\n",
       "       15.25859506, 21.48671453, 22.0947741 , 18.60558957, 27.63945207,\n",
       "       28.30133492, 36.01210499, 33.62899444, 13.84502747, 34.41362871,\n",
       "       33.92526376, 15.70366801, 22.27705545, 25.57238809, 17.96671371,\n",
       "       25.28636917, 21.2822567 , 25.48327639, 26.8801995 , 15.81412774,\n",
       "       12.57630932, 18.45864828, 20.74634159, 26.36877236, 24.76302531,\n",
       "       39.36891911, 38.41013212, 13.03031873, 17.81366344, 24.53236065,\n",
       "       35.11494526, 31.67385037, 16.84728463, 28.0590211 , 19.9394924 ,\n",
       "       21.00197001, 41.31743583, 37.94406179, 24.38789285, 33.38804729,\n",
       "       30.18876082, 23.07056426, 13.6681504 , 23.83175589, 26.29714437,\n",
       "        8.02957711, 17.93558092, 27.45871688, 31.14873809, 24.95322847,\n",
       "       16.32483341, 29.8167797 , 23.73941733, 25.71263594, 30.79012056,\n",
       "       23.95912224, 20.35268254, 23.14983879, 12.47382881, 32.23633695,\n",
       "       37.04998069, 27.49025186, 19.62963964, 20.67091842, 21.03031514,\n",
       "       37.67785912, 20.86414596, 30.43328416, 27.1843758 , 21.14699626,\n",
       "       15.92815079, 15.68636373, 24.89583698, 21.33419358, 28.44073201,\n",
       "       10.86311753, 42.18867346, 13.96962081, 17.88567036, 42.13390757,\n",
       "        1.81739557, 21.14559059, 17.15457516, 21.23651252, 31.19288325,\n",
       "       14.10598228, 33.35706049, -0.13380688, 16.719658  , 26.06201304,\n",
       "       33.3002842 , 27.47373243, 22.61262174, 23.50993883, 28.38252051,\n",
       "       18.14105177, 28.75630892, 20.95427286, 36.81707831, 20.89654921,\n",
       "       15.63702851, 14.21230824, 28.32997025, 22.82900606, 21.88481038,\n",
       "       27.17032898, 25.9339597 , 24.12695774,  5.40552127, 22.06068646,\n",
       "       15.49219999, 20.67061629, 29.1720456 , 28.57481758, 21.73756909,\n",
       "       29.08803258, 26.75002016, 23.64449361, 25.17868857, 22.59039826,\n",
       "       39.55597625, 26.34327527, 25.24801248, 32.05930483, 17.58040205,\n",
       "       19.20370031, 25.08016252,  8.3128074 , 26.77675091,  7.48504847,\n",
       "       20.59323631, 34.82775132, 36.18660525, 12.96848561, 27.65147348,\n",
       "       34.14377792, 16.48436664, 34.26111063, 21.4922641 , 19.7804219 ,\n",
       "       -0.75936174, 24.13359611, 19.49440376, 34.27125038, 23.60129936,\n",
       "       19.24549809,  3.52501653, 17.86272874, 16.90068333, 32.90837387,\n",
       "       41.23995604,  6.24024701, 18.02061268,  8.50636318, 21.83917104,\n",
       "       19.8784284 , 20.29001438, 11.52746277, 23.70150912, 15.8184726 ,\n",
       "       29.0463454 , 24.68214662, 19.94921306, 45.97809709, 33.31896924,\n",
       "       16.98898524, 23.69080834, 23.97364504, 12.94450859, 22.31797619,\n",
       "       21.290266  , 22.59124339, 20.81904106, 30.80902782, 27.36809972,\n",
       "       12.99680591, 15.57561821, 23.02925176, 18.87687541, 18.58418915,\n",
       "       17.33184772, 19.8577166 , 19.84923804, 31.2901583 ,  9.31624244,\n",
       "       34.75862742, 12.61479162, 20.19478888, 18.91870301, 11.52926216,\n",
       "       29.2809845 , 18.64016416, 44.61974752,  6.33078062, 20.62921122,\n",
       "       20.14001808, 19.52027189, 17.68088819, 11.05160299, 13.73410958,\n",
       "       12.15544297, 14.29610664, 21.61974656, 18.702521  , 36.82491661,\n",
       "       14.53235388, 24.55595226, 13.10096878, 28.46718941, 26.63851555,\n",
       "       25.68515637, 10.17916129, 28.29370766, 35.56878886, 17.54230479,\n",
       "       21.27341518, 20.62710547, 22.00646393,  8.89792156, 18.31083513,\n",
       "       12.01787635, 23.19032503, 23.17120867, 20.67058246, 39.63814334,\n",
       "       23.15953445, 21.91172942, 18.66953184, 16.21469789, 21.56304961,\n",
       "       21.59495797, 20.77479345, 17.19803452, 28.79056648, 37.38722926,\n",
       "       21.28575934, 13.82234027, 19.18328875,  4.85759958, 30.09548414,\n",
       "       14.70580847, 28.59432079, 23.46775793, 15.02570619, 16.88871857,\n",
       "       27.20582817, 36.14294151, 27.4856031 , 32.89650522, 20.20207267,\n",
       "       19.93964457, 26.83091275, 36.10302596, 17.40680377, 37.54835482,\n",
       "       19.88471488, 20.84802648, 22.99453013, 12.12698744, 13.22842789,\n",
       "       16.65175755, 41.8153111 , 26.9295064 , 34.99722169, 24.41592783,\n",
       "       17.82357899, 19.49857568, 30.97126491, 20.29914607, 16.13395312,\n",
       "       17.86912542, 22.30238644, 25.79643432, 36.97300689, 23.97612426,\n",
       "       28.68489316,  8.592846  ,  5.65874829, 34.80696385, 33.21633669,\n",
       "       21.97801317, 23.1553064 , 14.1652305 , 41.71420395, 17.12118038,\n",
       "       14.01992625, 31.36478966, 17.53200366, 29.93430726, 11.98118183,\n",
       "       16.05795062, 21.36066313, 23.49997647, 35.97951176, 31.67841438,\n",
       "       39.26091185, 25.91519359, 15.97725838, 21.7285845 , 31.69389367,\n",
       "       20.6281346 , 20.53266556, 24.933186  , 31.25662085, 30.50676846,\n",
       "       25.36603516, 20.77801779, 17.26622369, 19.81933339, 27.01178363,\n",
       "       27.15560708, 15.94259088, 20.13136719, 31.04825596, 27.14316859,\n",
       "       25.30831233, 26.13017061, 36.31957838, 24.35435298])"
      ]
     },
     "execution_count": 85,
     "metadata": {},
     "output_type": "execute_result"
    }
   ],
   "source": [
    "lr.predict(X_train2)"
   ]
  },
  {
   "cell_type": "code",
   "execution_count": 86,
   "metadata": {
    "scrolled": true
   },
   "outputs": [
    {
     "data": {
      "text/plain": [
       "array([20.33192034, 30.56150855, 11.42198946, 16.8970806 , 27.01912782,\n",
       "       12.77729555, 25.41460999, 23.95267008, 33.79154132, 33.50126749,\n",
       "       25.05429557, 31.66430227, 19.98285258, 12.4616218 , -6.66297423,\n",
       "       23.36867493, 14.92932538, 44.05472038, 22.81669548,  3.72098139,\n",
       "       31.25746504, 20.68406647, 22.9425323 , 19.37448096, 12.91699241,\n",
       "       32.99373116, 21.81521649, 24.14498433, 18.41220509, 31.15685856,\n",
       "       16.76006243, 22.72843014, 19.40334092, 28.75501841, 17.70196598,\n",
       "       17.23717678, 18.22754471, 13.96560217, 28.73279778, 20.19961892,\n",
       "       36.2948616 , 17.91369056, 21.34274873, 20.02922409, 31.41285753,\n",
       "       32.01264434, 22.77358347, 35.02549046, 16.89214363,  3.59801458,\n",
       "       21.16194967, 23.74010706, 16.04165109, 28.36558986, 25.12232923,\n",
       "       23.44071444, 19.97735813, 33.37129595, 14.00816978, 19.54187977,\n",
       "       22.52890094, 25.30659334, 12.14810149, 16.59211993, 13.73365327,\n",
       "       30.68379456, 31.574453  , 28.95691257,  8.72573318, 28.99672   ,\n",
       "       19.04990469, 40.87792793, 43.46967496, 21.46169463, 25.46705524,\n",
       "       14.2831616 , 28.42382201, 20.16577439, 20.71019496, 19.83640395,\n",
       "       13.25646422, 14.95836759, 17.5029897 , 18.34861244, 21.66458324,\n",
       "       33.42278346, 19.48408736, 19.63838097, 32.76489666, 21.26234528,\n",
       "       22.15259022, 16.17155043, 28.65284784,  5.35954762, 26.33440708,\n",
       "       25.52724097, 20.77183987, 32.96577586,  9.37899417,  9.29054427,\n",
       "       15.510232  , 15.65092145])"
      ]
     },
     "execution_count": 86,
     "metadata": {},
     "output_type": "execute_result"
    }
   ],
   "source": [
    "lr.predict(X_test2)"
   ]
  },
  {
   "cell_type": "code",
   "execution_count": 88,
   "metadata": {},
   "outputs": [
    {
     "data": {
      "text/plain": [
       "LinearRegression(copy_X=True, fit_intercept=True, n_jobs=None,\n",
       "         normalize=False)"
      ]
     },
     "execution_count": 88,
     "metadata": {},
     "output_type": "execute_result"
    }
   ],
   "source": [
    "#winner gets fit on all the data\n",
    "lr.fit(X_train2, y_train2)"
   ]
  },
  {
   "cell_type": "code",
   "execution_count": 90,
   "metadata": {},
   "outputs": [
    {
     "data": {
      "text/plain": [
       "0.6860541958593196"
      ]
     },
     "execution_count": 90,
     "metadata": {},
     "output_type": "execute_result"
    }
   ],
   "source": [
    "#and then all the fitted data gets scored against the training set\n",
    "lr.score(X_test2,y_test2)"
   ]
  },
  {
   "cell_type": "code",
   "execution_count": null,
   "metadata": {},
   "outputs": [],
   "source": [
    "#regularization\n",
    "#modern way to multiple resgression on large dataset (good for variable selection)\n",
    "#deliberatley injecting bias into model called a penalty\n",
    "#gradients of decent uses regularization\n"
   ]
  },
  {
   "cell_type": "code",
   "execution_count": 96,
   "metadata": {},
   "outputs": [],
   "source": [
    "from sklearn.linear_model import Ridge\n",
    "rreg = Ridge()"
   ]
  },
  {
   "cell_type": "code",
   "execution_count": 102,
   "metadata": {},
   "outputs": [],
   "source": [
    "#creatin gvalues of alpha between 10 to-4 and 10 to the 4th \n",
    "alphas = np.logspace(-4,4,9)\n",
    "\n",
    "rreg_scores = []\n",
    "\n",
    "for alpha in alphas:\n",
    "    rreg.set_params(alpha=alpha)\n",
    "    scores = cross_val_score(estimator=rreg,X=X_train2,y=y_train2,cv=10)\n",
    "    rreg_scores.append((np.mean(scores), alpha))\n",
    "    "
   ]
  },
  {
   "cell_type": "code",
   "execution_count": 103,
   "metadata": {},
   "outputs": [
    {
     "data": {
      "text/plain": [
       "[(0.7801008844495196, 0.0001),\n",
       " (0.7801012844046976, 0.001),\n",
       " (0.7801052811304602, 0.01),\n",
       " (0.7801449670230547, 0.1),\n",
       " (0.7805148747022702, 1.0),\n",
       " (0.7823433464812654, 10.0),\n",
       " (0.7651508796072269, 100.0),\n",
       " (0.5754231586669579, 1000.0),\n",
       " (0.15950121788371638, 10000.0)]"
      ]
     },
     "execution_count": 103,
     "metadata": {},
     "output_type": "execute_result"
    }
   ],
   "source": [
    "rreg_scores"
   ]
  },
  {
   "cell_type": "code",
   "execution_count": 104,
   "metadata": {},
   "outputs": [
    {
     "data": {
      "text/plain": [
       "(0.7823433464812654, 10.0)"
      ]
     },
     "execution_count": 104,
     "metadata": {},
     "output_type": "execute_result"
    }
   ],
   "source": [
    "#best alpha to use is 10\n",
    "\n",
    "max(rreg_scores)"
   ]
  },
  {
   "cell_type": "code",
   "execution_count": 106,
   "metadata": {},
   "outputs": [],
   "source": [
    "from sklearn.linear_model import Lasso\n",
    "lareg = Lasso()\n",
    "\n",
    "alphas = np.logspace(-4,4,9)\n",
    "\n",
    "lareg_scores = []\n",
    "\n",
    "for alpha in alphas:\n",
    "    lareg.set_params(alpha=alpha)\n",
    "    scores = cross_val_score(estimator=lareg,X=X_train2,y=y_train2,cv=10)\n",
    "    lareg_scores.append((np.mean(scores), alpha))\n",
    "    "
   ]
  },
  {
   "cell_type": "code",
   "execution_count": 107,
   "metadata": {},
   "outputs": [
    {
     "data": {
      "text/plain": [
       "(0.7814714113239656, 0.001)"
      ]
     },
     "execution_count": 107,
     "metadata": {},
     "output_type": "execute_result"
    }
   ],
   "source": [
    "#lower cross validation score, so we wpould use ridge\n",
    "\n",
    "max(lareg_scores)"
   ]
  },
  {
   "cell_type": "code",
   "execution_count": 108,
   "metadata": {},
   "outputs": [
    {
     "data": {
      "text/plain": [
       "Ridge(alpha=10, copy_X=True, fit_intercept=True, max_iter=None,\n",
       "   normalize=False, random_state=None, solver='auto', tol=0.001)"
      ]
     },
     "execution_count": 108,
     "metadata": {},
     "output_type": "execute_result"
    }
   ],
   "source": [
    "rreg.set_params(alpha=10)\n",
    "rreg.fit(X_train2, y_train2)"
   ]
  },
  {
   "cell_type": "code",
   "execution_count": 109,
   "metadata": {},
   "outputs": [
    {
     "data": {
      "text/plain": [
       "0.6835062596459476"
      ]
     },
     "execution_count": 109,
     "metadata": {},
     "output_type": "execute_result"
    }
   ],
   "source": [
    "rreg.score(X_test2, y_test2)"
   ]
  },
  {
   "cell_type": "code",
   "execution_count": null,
   "metadata": {},
   "outputs": [],
   "source": []
  },
  {
   "cell_type": "code",
   "execution_count": null,
   "metadata": {},
   "outputs": [],
   "source": []
  }
 ],
 "metadata": {
  "kernelspec": {
   "display_name": "Python 3",
   "language": "python",
   "name": "python3"
  },
  "language_info": {
   "codemirror_mode": {
    "name": "ipython",
    "version": 3
   },
   "file_extension": ".py",
   "mimetype": "text/x-python",
   "name": "python",
   "nbconvert_exporter": "python",
   "pygments_lexer": "ipython3",
   "version": "3.7.3"
  }
 },
 "nbformat": 4,
 "nbformat_minor": 2
}
