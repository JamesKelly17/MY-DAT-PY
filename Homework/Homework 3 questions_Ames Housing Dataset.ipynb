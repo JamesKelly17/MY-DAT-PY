{
 "cells": [
  {
   "cell_type": "markdown",
   "metadata": {},
   "source": [
    "### Homework 3:  Master Regression on the Ames Housing Dataset"
   ]
  },
  {
   "cell_type": "markdown",
   "metadata": {},
   "source": [
    "This homework is meant to be a more open ended, exploratory way for students to complete their assignment for Homework project #3. \n",
    "\n",
    "Instead of doing the pre-assigned tasks in the other projects given, you can use this homework as a chance to develop your own model using the Ames Housing dataset, as discussed here:  https://www.kaggle.com/c/house-prices-advanced-regression-techniques/overview"
   ]
  },
  {
   "cell_type": "markdown",
   "metadata": {},
   "source": [
    "Your homework assignment will be to try and get the best leaderboard score that you can, using techniques learned so far in class, in addition to whatever else you find online.  "
   ]
  },
  {
   "cell_type": "markdown",
   "metadata": {},
   "source": [
    "This class will be a continuation of what was covered in class 14 when we made our first submission."
   ]
  },
  {
   "cell_type": "markdown",
   "metadata": {},
   "source": [
    "In so doing, present the following 5 questions to class when you are finished."
   ]
  },
  {
   "cell_type": "markdown",
   "metadata": {},
   "source": [
    "#### What was your final leaderboard score?  How many submissions did it take for you to get there?"
   ]
  },
  {
   "cell_type": "markdown",
   "metadata": {},
   "source": [
    "I finished with a RMSE of 0.12128, after 4 submissions"
   ]
  },
  {
   "cell_type": "markdown",
   "metadata": {},
   "source": [
    "#### What types of techniques did you use?  Which ones worked best, which ones didn't?"
   ]
  },
  {
   "cell_type": "markdown",
   "metadata": {},
   "source": [
    "I deleted some outliers, I filled in missing data, cerated dummies, and then I ran the following models:\n",
    "#Random Forest\n",
    "#LASSO Regression\n",
    "#RIDGE regression \n",
    "#Elastic Net Regression: \n",
    "#Gradient Boosting Regression:\n",
    "#XGBoost:\n",
    "#KNN Regression:\n",
    "#Support Vector Regression\n",
    "#Light GBM Regression\n",
    "#An average model (using ENet, GBoost, model_xgb, ridge, random forest)\n",
    "#A stacked model (using ENet, GBoost, model_xgb, ridge, model_lgbm as a base, and lasso as a meta model)\n",
    "\n",
    "Low performers: Support Vector Regression, KNN\n",
    "HIGH performers: Everything else, but espeically the stacked model"
   ]
  },
  {
   "cell_type": "markdown",
   "metadata": {},
   "source": [
    "#### What new features or modifications did you make to your data that helped your score?"
   ]
  },
  {
   "cell_type": "markdown",
   "metadata": {},
   "source": [
    "I deleted some price outliers, I filled in all the missing data, and I created a total square footage variable "
   ]
  },
  {
   "cell_type": "markdown",
   "metadata": {},
   "source": [
    "#### How reliable was the association between your validation and test scores?  What steps did you take to correct this measure?"
   ]
  },
  {
   "cell_type": "markdown",
   "metadata": {},
   "source": [
    "Validation was always lower, signifying there was some overfitting. I should have spent more time adjusting some of \n",
    "the parameters, like alpha with linear regression. But instead I added more models thinking this would by default increase overall accuracy, even if validation/test score reliability remained low.\n"
   ]
  },
  {
   "cell_type": "markdown",
   "metadata": {},
   "source": [
    "#### What surprised you the most when it came to your results?"
   ]
  },
  {
   "cell_type": "markdown",
   "metadata": {},
   "source": [
    "1) The diminishing returns of improving your score. It takes a lot to improve just a little. \n",
    "2) The more complicated the model, the longer it takes to run. And it can take a while"
   ]
  },
  {
   "cell_type": "markdown",
   "metadata": {},
   "source": [
    "#### If you could, what would you like to explore in the future with regards to this sort of problem?"
   ]
  },
  {
   "cell_type": "markdown",
   "metadata": {},
   "source": [
    "For homework, I spent most of my time adding models, so moving forward to imporve my score further I would:\n",
    "1) spend more time cleaning my data, and potentially creating some new variables \n",
    "2) Fine tune the model parameters, which I left alone for the most part\n",
    "3) Add more \"rounds\" to my stacked model "
   ]
  },
  {
   "cell_type": "code",
   "execution_count": null,
   "metadata": {},
   "outputs": [],
   "source": []
  }
 ],
 "metadata": {
  "kernelspec": {
   "display_name": "Python 3",
   "language": "python",
   "name": "python3"
  },
  "language_info": {
   "codemirror_mode": {
    "name": "ipython",
    "version": 3
   },
   "file_extension": ".py",
   "mimetype": "text/x-python",
   "name": "python",
   "nbconvert_exporter": "python",
   "pygments_lexer": "ipython3",
   "version": "3.7.3"
  }
 },
 "nbformat": 4,
 "nbformat_minor": 2
}
