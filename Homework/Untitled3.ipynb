{
 "cells": [
  {
   "cell_type": "markdown",
   "metadata": {},
   "source": [
    "## Packages"
   ]
  },
  {
   "cell_type": "code",
   "execution_count": 1,
   "metadata": {},
   "outputs": [],
   "source": [
    "#Packages to use\n",
    "import numpy as np\n",
    "import pandas as pd\n",
    "%matplotlib inline\n",
    "import matplotlib.pyplot as plt\n",
    "plt.style.use(\"fivethirtyeight\")\n",
    "import seaborn as sns\n",
    "color = sns.color_palette()\n",
    "import scipy.stats\n",
    "from sklearn.linear_model import LinearRegression\n",
    "from sklearn.model_selection import train_test_split\n",
    "from sklearn.tree import DecisionTreeRegressor\n",
    "\n",
    "#ignore annoying warnings\n",
    "import warnings\n",
    "def ignore_warn(*args, **kwargs):\n",
    "    pass\n",
    "warnings.warn = ignore_warn\n",
    "\n",
    "#Limits floats to 3 decimals\n",
    "pd.set_option('display.float_format', lambda x: '{:.3f}'.format(x))"
   ]
  },
  {
   "cell_type": "code",
   "execution_count": null,
   "metadata": {},
   "outputs": [],
   "source": []
  },
  {
   "cell_type": "markdown",
   "metadata": {},
   "source": [
    "## DATA"
   ]
  },
  {
   "cell_type": "code",
   "execution_count": 43,
   "metadata": {},
   "outputs": [
    {
     "data": {
      "text/html": [
       "<div>\n",
       "<style scoped>\n",
       "    .dataframe tbody tr th:only-of-type {\n",
       "        vertical-align: middle;\n",
       "    }\n",
       "\n",
       "    .dataframe tbody tr th {\n",
       "        vertical-align: top;\n",
       "    }\n",
       "\n",
       "    .dataframe thead th {\n",
       "        text-align: right;\n",
       "    }\n",
       "</style>\n",
       "<table border=\"1\" class=\"dataframe\">\n",
       "  <thead>\n",
       "    <tr style=\"text-align: right;\">\n",
       "      <th></th>\n",
       "      <th>Stock</th>\n",
       "      <th>Category_SPEND</th>\n",
       "      <th>Category_GRP</th>\n",
       "      <th>BDC_SPEND</th>\n",
       "      <th>BDC_GRP</th>\n",
       "      <th>BDC_SOS</th>\n",
       "      <th>BDC_SOV</th>\n",
       "      <th>Google_index</th>\n",
       "      <th>Twitter_mentions</th>\n",
       "      <th>Twitter_sentiment</th>\n",
       "      <th>...</th>\n",
       "      <th>Ad_awareness</th>\n",
       "      <th>WOM</th>\n",
       "      <th>Consideration</th>\n",
       "      <th>Purchase_Intent</th>\n",
       "      <th>Recent_users</th>\n",
       "      <th>Article_Count</th>\n",
       "      <th>Article_Engagement</th>\n",
       "      <th>Article_Sentiment</th>\n",
       "      <th>quarter</th>\n",
       "      <th>month</th>\n",
       "    </tr>\n",
       "    <tr>\n",
       "      <th>Week</th>\n",
       "      <th></th>\n",
       "      <th></th>\n",
       "      <th></th>\n",
       "      <th></th>\n",
       "      <th></th>\n",
       "      <th></th>\n",
       "      <th></th>\n",
       "      <th></th>\n",
       "      <th></th>\n",
       "      <th></th>\n",
       "      <th></th>\n",
       "      <th></th>\n",
       "      <th></th>\n",
       "      <th></th>\n",
       "      <th></th>\n",
       "      <th></th>\n",
       "      <th></th>\n",
       "      <th></th>\n",
       "      <th></th>\n",
       "      <th></th>\n",
       "      <th></th>\n",
       "    </tr>\n",
       "  </thead>\n",
       "  <tbody>\n",
       "    <tr>\n",
       "      <th>2017-01-01</th>\n",
       "      <td>1476.910</td>\n",
       "      <td>9382</td>\n",
       "      <td>389</td>\n",
       "      <td>0</td>\n",
       "      <td>0</td>\n",
       "      <td>0.000</td>\n",
       "      <td>0.000</td>\n",
       "      <td>57</td>\n",
       "      <td>529</td>\n",
       "      <td>-0.729</td>\n",
       "      <td>...</td>\n",
       "      <td>4.842</td>\n",
       "      <td>1.389</td>\n",
       "      <td>8.801</td>\n",
       "      <td>2.395</td>\n",
       "      <td>3.502</td>\n",
       "      <td>89</td>\n",
       "      <td>4.718</td>\n",
       "      <td>4.235</td>\n",
       "      <td>1</td>\n",
       "      <td>1</td>\n",
       "    </tr>\n",
       "    <tr>\n",
       "      <th>2017-01-08</th>\n",
       "      <td>1518.000</td>\n",
       "      <td>14874</td>\n",
       "      <td>612</td>\n",
       "      <td>0</td>\n",
       "      <td>0</td>\n",
       "      <td>0.000</td>\n",
       "      <td>0.000</td>\n",
       "      <td>54</td>\n",
       "      <td>594</td>\n",
       "      <td>0.963</td>\n",
       "      <td>...</td>\n",
       "      <td>5.723</td>\n",
       "      <td>1.696</td>\n",
       "      <td>8.860</td>\n",
       "      <td>2.461</td>\n",
       "      <td>3.187</td>\n",
       "      <td>70</td>\n",
       "      <td>0.000</td>\n",
       "      <td>4.869</td>\n",
       "      <td>1</td>\n",
       "      <td>1</td>\n",
       "    </tr>\n",
       "    <tr>\n",
       "      <th>2017-01-15</th>\n",
       "      <td>1544.000</td>\n",
       "      <td>14780</td>\n",
       "      <td>694</td>\n",
       "      <td>0</td>\n",
       "      <td>0</td>\n",
       "      <td>0.000</td>\n",
       "      <td>0.000</td>\n",
       "      <td>56</td>\n",
       "      <td>653</td>\n",
       "      <td>3.597</td>\n",
       "      <td>...</td>\n",
       "      <td>5.294</td>\n",
       "      <td>1.333</td>\n",
       "      <td>9.254</td>\n",
       "      <td>0.845</td>\n",
       "      <td>1.296</td>\n",
       "      <td>69</td>\n",
       "      <td>4.812</td>\n",
       "      <td>7.945</td>\n",
       "      <td>1</td>\n",
       "      <td>1</td>\n",
       "    </tr>\n",
       "    <tr>\n",
       "      <th>2017-01-22</th>\n",
       "      <td>1541.470</td>\n",
       "      <td>13325</td>\n",
       "      <td>604</td>\n",
       "      <td>0</td>\n",
       "      <td>0</td>\n",
       "      <td>0.000</td>\n",
       "      <td>0.000</td>\n",
       "      <td>54</td>\n",
       "      <td>597</td>\n",
       "      <td>1.554</td>\n",
       "      <td>...</td>\n",
       "      <td>5.722</td>\n",
       "      <td>2.334</td>\n",
       "      <td>11.312</td>\n",
       "      <td>2.813</td>\n",
       "      <td>4.933</td>\n",
       "      <td>69</td>\n",
       "      <td>5.935</td>\n",
       "      <td>6.864</td>\n",
       "      <td>1</td>\n",
       "      <td>1</td>\n",
       "    </tr>\n",
       "    <tr>\n",
       "      <th>2017-01-29</th>\n",
       "      <td>1598.650</td>\n",
       "      <td>18675</td>\n",
       "      <td>655</td>\n",
       "      <td>0</td>\n",
       "      <td>0</td>\n",
       "      <td>0.000</td>\n",
       "      <td>0.000</td>\n",
       "      <td>56</td>\n",
       "      <td>536</td>\n",
       "      <td>2.107</td>\n",
       "      <td>...</td>\n",
       "      <td>5.404</td>\n",
       "      <td>3.405</td>\n",
       "      <td>9.966</td>\n",
       "      <td>2.224</td>\n",
       "      <td>2.793</td>\n",
       "      <td>4</td>\n",
       "      <td>0.693</td>\n",
       "      <td>4.340</td>\n",
       "      <td>1</td>\n",
       "      <td>1</td>\n",
       "    </tr>\n",
       "  </tbody>\n",
       "</table>\n",
       "<p>5 rows × 35 columns</p>\n",
       "</div>"
      ],
      "text/plain": [
       "              Stock  Category_SPEND  Category_GRP  BDC_SPEND  BDC_GRP  \\\n",
       "Week                                                                    \n",
       "2017-01-01 1476.910            9382           389          0        0   \n",
       "2017-01-08 1518.000           14874           612          0        0   \n",
       "2017-01-15 1544.000           14780           694          0        0   \n",
       "2017-01-22 1541.470           13325           604          0        0   \n",
       "2017-01-29 1598.650           18675           655          0        0   \n",
       "\n",
       "            BDC_SOS  BDC_SOV  Google_index  Twitter_mentions  \\\n",
       "Week                                                           \n",
       "2017-01-01    0.000    0.000            57               529   \n",
       "2017-01-08    0.000    0.000            54               594   \n",
       "2017-01-15    0.000    0.000            56               653   \n",
       "2017-01-22    0.000    0.000            54               597   \n",
       "2017-01-29    0.000    0.000            56               536   \n",
       "\n",
       "            Twitter_sentiment  ...  Ad_awareness   WOM  Consideration  \\\n",
       "Week                           ...                                      \n",
       "2017-01-01             -0.729  ...         4.842 1.389          8.801   \n",
       "2017-01-08              0.963  ...         5.723 1.696          8.860   \n",
       "2017-01-15              3.597  ...         5.294 1.333          9.254   \n",
       "2017-01-22              1.554  ...         5.722 2.334         11.312   \n",
       "2017-01-29              2.107  ...         5.404 3.405          9.966   \n",
       "\n",
       "            Purchase_Intent  Recent_users  Article_Count  Article_Engagement  \\\n",
       "Week                                                                           \n",
       "2017-01-01            2.395         3.502             89               4.718   \n",
       "2017-01-08            2.461         3.187             70               0.000   \n",
       "2017-01-15            0.845         1.296             69               4.812   \n",
       "2017-01-22            2.813         4.933             69               5.935   \n",
       "2017-01-29            2.224         2.793              4               0.693   \n",
       "\n",
       "            Article_Sentiment  quarter  month  \n",
       "Week                                           \n",
       "2017-01-01              4.235        1      1  \n",
       "2017-01-08              4.869        1      1  \n",
       "2017-01-15              7.945        1      1  \n",
       "2017-01-22              6.864        1      1  \n",
       "2017-01-29              4.340        1      1  \n",
       "\n",
       "[5 rows x 35 columns]"
      ]
     },
     "execution_count": 43,
     "metadata": {},
     "output_type": "execute_result"
    }
   ],
   "source": [
    "url = 'C:/Users/James.Kelly/OneDrive - insidemedia.net/Documents/final_project_data.csv'\n",
    "df = pd.read_csv(url, index_col='Week', parse_dates=True)\n",
    "df['quarter'] = df.index.quarter\n",
    "df['month'] = df.index.month\n",
    "\n",
    "df.head()"
   ]
  },
  {
   "cell_type": "code",
   "execution_count": 30,
   "metadata": {
    "scrolled": false
   },
   "outputs": [
    {
     "data": {
      "text/plain": [
       "0"
      ]
     },
     "execution_count": 30,
     "metadata": {},
     "output_type": "execute_result"
    }
   ],
   "source": [
    "df.isnull().sum().sum()"
   ]
  },
  {
   "cell_type": "code",
   "execution_count": 48,
   "metadata": {},
   "outputs": [
    {
     "data": {
      "text/plain": [
       "Stock                 float64\n",
       "Category_SPEND          int64\n",
       "Category_GRP            int64\n",
       "BDC_SPEND               int64\n",
       "BDC_GRP                 int64\n",
       "BDC_SOS               float64\n",
       "BDC_SOV               float64\n",
       "Google_index            int64\n",
       "Twitter_mentions        int64\n",
       "Twitter_sentiment     float64\n",
       "Twitter_Anger           int64\n",
       "Twitter_Fear            int64\n",
       "Twitter_Disgust         int64\n",
       "Twitter_Joy             int64\n",
       "Twitter_Surprise        int64\n",
       "Twitter_Sadness         int64\n",
       "Buzz                  float64\n",
       "Attention             float64\n",
       "Impression            float64\n",
       "Quality               float64\n",
       "Value                 float64\n",
       "Reputation            float64\n",
       "Satisfaction          float64\n",
       "Recommend             float64\n",
       "Awareness             float64\n",
       "Ad_awareness          float64\n",
       "WOM                   float64\n",
       "Consideration         float64\n",
       "Purchase_Intent       float64\n",
       "Recent_users          float64\n",
       "Article_Count           int64\n",
       "Article_Engagement    float64\n",
       "Article_Sentiment     float64\n",
       "quarter                 int64\n",
       "month                   int64\n",
       "dtype: object"
      ]
     },
     "execution_count": 48,
     "metadata": {},
     "output_type": "execute_result"
    }
   ],
   "source": [
    "#df['Stock'] = df[['Stock', 'BDC_SOS', 'BDC_SOV']].astype(float)\n",
    "df.dtypes"
   ]
  },
  {
   "cell_type": "code",
   "execution_count": 31,
   "metadata": {},
   "outputs": [
    {
     "data": {
      "text/plain": [
       "<matplotlib.axes._subplots.AxesSubplot at 0x291a6ea79b0>"
      ]
     },
     "execution_count": 31,
     "metadata": {},
     "output_type": "execute_result"
    },
    {
     "data": {
      "image/png": "[encoded data removed]",
      "text/plain": [
       "<Figure size 1080x864 with 2 Axes>"
      ]
     },
     "metadata": {
      "needs_background": "light"
     },
     "output_type": "display_data"
    }
   ],
   "source": [
    "corrmat = df.corr()\n",
    "plt.subplots(figsize=(15,12))\n",
    "sns.heatmap(corrmat, vmax=0.9, square=True)"
   ]
  },
  {
   "cell_type": "code",
   "execution_count": null,
   "metadata": {},
   "outputs": [],
   "source": [
    "#all_data.drop(['SalePrice'], axis=1, inplace=True)\n",
    "#all_data.head()"
   ]
  },
  {
   "cell_type": "markdown",
   "metadata": {},
   "source": [
    "# Variable Selection\n"
   ]
  },
  {
   "cell_type": "code",
   "execution_count": 58,
   "metadata": {},
   "outputs": [],
   "source": [
    "from sklearn.ensemble import RandomForestRegressor\n",
    "rf = RandomForestRegressor(n_estimators=100)"
   ]
  },
  {
   "cell_type": "code",
   "execution_count": 61,
   "metadata": {},
   "outputs": [],
   "source": [
    "# create x and y columns\n",
    "X = df.loc[:, df.columns != 'Consideration']\n",
    "y = df['Consideration']\n",
    "# create dummy variables\n",
    "#X = pd.get_dummies(X)"
   ]
  },
  {
   "cell_type": "code",
   "execution_count": 62,
   "metadata": {},
   "outputs": [
    {
     "data": {
      "text/plain": [
       "RandomForestRegressor(bootstrap=True, criterion='mse', max_depth=None,\n",
       "                      max_features='auto', max_leaf_nodes=None,\n",
       "                      min_impurity_decrease=0.0, min_impurity_split=None,\n",
       "                      min_samples_leaf=1, min_samples_split=2,\n",
       "                      min_weight_fraction_leaf=0.0, n_estimators=100,\n",
       "                      n_jobs=None, oob_score=False, random_state=None,\n",
       "                      verbose=0, warm_start=False)"
      ]
     },
     "execution_count": 62,
     "metadata": {},
     "output_type": "execute_result"
    }
   ],
   "source": [
    "rf.fit(X,y)"
   ]
  },
  {
   "cell_type": "code",
   "execution_count": 63,
   "metadata": {},
   "outputs": [
    {
     "data": {
      "text/html": [
       "<div>\n",
       "<style scoped>\n",
       "    .dataframe tbody tr th:only-of-type {\n",
       "        vertical-align: middle;\n",
       "    }\n",
       "\n",
       "    .dataframe tbody tr th {\n",
       "        vertical-align: top;\n",
       "    }\n",
       "\n",
       "    .dataframe thead th {\n",
       "        text-align: right;\n",
       "    }\n",
       "</style>\n",
       "<table border=\"1\" class=\"dataframe\">\n",
       "  <thead>\n",
       "    <tr style=\"text-align: right;\">\n",
       "      <th></th>\n",
       "      <th>Features</th>\n",
       "      <th>Importance</th>\n",
       "    </tr>\n",
       "  </thead>\n",
       "  <tbody>\n",
       "    <tr>\n",
       "      <th>24</th>\n",
       "      <td>Awareness</td>\n",
       "      <td>0.155</td>\n",
       "    </tr>\n",
       "    <tr>\n",
       "      <th>18</th>\n",
       "      <td>Impression</td>\n",
       "      <td>0.139</td>\n",
       "    </tr>\n",
       "    <tr>\n",
       "      <th>23</th>\n",
       "      <td>Recommend</td>\n",
       "      <td>0.096</td>\n",
       "    </tr>\n",
       "    <tr>\n",
       "      <th>25</th>\n",
       "      <td>Ad_awareness</td>\n",
       "      <td>0.083</td>\n",
       "    </tr>\n",
       "    <tr>\n",
       "      <th>17</th>\n",
       "      <td>Attention</td>\n",
       "      <td>0.077</td>\n",
       "    </tr>\n",
       "    <tr>\n",
       "      <th>19</th>\n",
       "      <td>Quality</td>\n",
       "      <td>0.061</td>\n",
       "    </tr>\n",
       "    <tr>\n",
       "      <th>27</th>\n",
       "      <td>Purchase_Intent</td>\n",
       "      <td>0.057</td>\n",
       "    </tr>\n",
       "    <tr>\n",
       "      <th>26</th>\n",
       "      <td>WOM</td>\n",
       "      <td>0.052</td>\n",
       "    </tr>\n",
       "    <tr>\n",
       "      <th>20</th>\n",
       "      <td>Value</td>\n",
       "      <td>0.050</td>\n",
       "    </tr>\n",
       "    <tr>\n",
       "      <th>16</th>\n",
       "      <td>Buzz</td>\n",
       "      <td>0.034</td>\n",
       "    </tr>\n",
       "    <tr>\n",
       "      <th>10</th>\n",
       "      <td>Twitter_Anger</td>\n",
       "      <td>0.018</td>\n",
       "    </tr>\n",
       "    <tr>\n",
       "      <th>3</th>\n",
       "      <td>BDC_SPEND</td>\n",
       "      <td>0.015</td>\n",
       "    </tr>\n",
       "    <tr>\n",
       "      <th>12</th>\n",
       "      <td>Twitter_Disgust</td>\n",
       "      <td>0.013</td>\n",
       "    </tr>\n",
       "    <tr>\n",
       "      <th>30</th>\n",
       "      <td>Article_Engagement</td>\n",
       "      <td>0.012</td>\n",
       "    </tr>\n",
       "    <tr>\n",
       "      <th>0</th>\n",
       "      <td>Stock</td>\n",
       "      <td>0.012</td>\n",
       "    </tr>\n",
       "    <tr>\n",
       "      <th>22</th>\n",
       "      <td>Satisfaction</td>\n",
       "      <td>0.012</td>\n",
       "    </tr>\n",
       "    <tr>\n",
       "      <th>21</th>\n",
       "      <td>Reputation</td>\n",
       "      <td>0.010</td>\n",
       "    </tr>\n",
       "    <tr>\n",
       "      <th>15</th>\n",
       "      <td>Twitter_Sadness</td>\n",
       "      <td>0.010</td>\n",
       "    </tr>\n",
       "    <tr>\n",
       "      <th>8</th>\n",
       "      <td>Twitter_mentions</td>\n",
       "      <td>0.009</td>\n",
       "    </tr>\n",
       "    <tr>\n",
       "      <th>9</th>\n",
       "      <td>Twitter_sentiment</td>\n",
       "      <td>0.009</td>\n",
       "    </tr>\n",
       "    <tr>\n",
       "      <th>31</th>\n",
       "      <td>Article_Sentiment</td>\n",
       "      <td>0.008</td>\n",
       "    </tr>\n",
       "    <tr>\n",
       "      <th>29</th>\n",
       "      <td>Article_Count</td>\n",
       "      <td>0.007</td>\n",
       "    </tr>\n",
       "    <tr>\n",
       "      <th>6</th>\n",
       "      <td>BDC_SOV</td>\n",
       "      <td>0.007</td>\n",
       "    </tr>\n",
       "    <tr>\n",
       "      <th>13</th>\n",
       "      <td>Twitter_Joy</td>\n",
       "      <td>0.006</td>\n",
       "    </tr>\n",
       "    <tr>\n",
       "      <th>2</th>\n",
       "      <td>Category_GRP</td>\n",
       "      <td>0.006</td>\n",
       "    </tr>\n",
       "    <tr>\n",
       "      <th>1</th>\n",
       "      <td>Category_SPEND</td>\n",
       "      <td>0.006</td>\n",
       "    </tr>\n",
       "    <tr>\n",
       "      <th>4</th>\n",
       "      <td>BDC_GRP</td>\n",
       "      <td>0.006</td>\n",
       "    </tr>\n",
       "    <tr>\n",
       "      <th>5</th>\n",
       "      <td>BDC_SOS</td>\n",
       "      <td>0.006</td>\n",
       "    </tr>\n",
       "    <tr>\n",
       "      <th>14</th>\n",
       "      <td>Twitter_Surprise</td>\n",
       "      <td>0.005</td>\n",
       "    </tr>\n",
       "    <tr>\n",
       "      <th>11</th>\n",
       "      <td>Twitter_Fear</td>\n",
       "      <td>0.005</td>\n",
       "    </tr>\n",
       "    <tr>\n",
       "      <th>7</th>\n",
       "      <td>Google_index</td>\n",
       "      <td>0.005</td>\n",
       "    </tr>\n",
       "    <tr>\n",
       "      <th>33</th>\n",
       "      <td>month</td>\n",
       "      <td>0.004</td>\n",
       "    </tr>\n",
       "    <tr>\n",
       "      <th>28</th>\n",
       "      <td>Recent_users</td>\n",
       "      <td>0.004</td>\n",
       "    </tr>\n",
       "    <tr>\n",
       "      <th>32</th>\n",
       "      <td>quarter</td>\n",
       "      <td>0.000</td>\n",
       "    </tr>\n",
       "  </tbody>\n",
       "</table>\n",
       "</div>"
      ],
      "text/plain": [
       "              Features  Importance\n",
       "24           Awareness       0.155\n",
       "18          Impression       0.139\n",
       "23           Recommend       0.096\n",
       "25        Ad_awareness       0.083\n",
       "17           Attention       0.077\n",
       "19             Quality       0.061\n",
       "27     Purchase_Intent       0.057\n",
       "26                 WOM       0.052\n",
       "20               Value       0.050\n",
       "16                Buzz       0.034\n",
       "10       Twitter_Anger       0.018\n",
       "3            BDC_SPEND       0.015\n",
       "12     Twitter_Disgust       0.013\n",
       "30  Article_Engagement       0.012\n",
       "0                Stock       0.012\n",
       "22        Satisfaction       0.012\n",
       "21          Reputation       0.010\n",
       "15     Twitter_Sadness       0.010\n",
       "8     Twitter_mentions       0.009\n",
       "9    Twitter_sentiment       0.009\n",
       "31   Article_Sentiment       0.008\n",
       "29       Article_Count       0.007\n",
       "6              BDC_SOV       0.007\n",
       "13         Twitter_Joy       0.006\n",
       "2         Category_GRP       0.006\n",
       "1       Category_SPEND       0.006\n",
       "4              BDC_GRP       0.006\n",
       "5              BDC_SOS       0.006\n",
       "14    Twitter_Surprise       0.005\n",
       "11        Twitter_Fear       0.005\n",
       "7         Google_index       0.005\n",
       "33               month       0.004\n",
       "28        Recent_users       0.004\n",
       "32             quarter       0.000"
      ]
     },
     "execution_count": 63,
     "metadata": {},
     "output_type": "execute_result"
    }
   ],
   "source": [
    "importances = pd.DataFrame({\n",
    "    'Features': X.columns,\n",
    "    'Importance': rf.feature_importances_\n",
    "})\n",
    "\n",
    "importances.sort_values(by=['Importance'],ascending=False)"
   ]
  },
  {
   "cell_type": "code",
   "execution_count": null,
   "metadata": {},
   "outputs": [],
   "source": []
  },
  {
   "cell_type": "markdown",
   "metadata": {},
   "source": [
    "# Variable Selection\n",
    "### Hierarchical Clustering & Dendrograms\n"
   ]
  },
  {
   "cell_type": "code",
   "execution_count": 68,
   "metadata": {},
   "outputs": [],
   "source": [
    "vals_to_keep = importances['Features'][:33].values.tolist()"
   ]
  },
  {
   "cell_type": "code",
   "execution_count": 69,
   "metadata": {},
   "outputs": [],
   "source": [
    "# standardize data\n",
    "data_for_cluster = (X[vals_to_keep] - X[vals_to_keep].mean()) / X[vals_to_keep].std()"
   ]
  },
  {
   "cell_type": "code",
   "execution_count": 70,
   "metadata": {},
   "outputs": [
    {
     "data": {
      "image/png": "[encoded data removed]",
      "text/plain": [
       "<Figure size 1440x2520 with 1 Axes>"
      ]
     },
     "metadata": {
      "needs_background": "light"
     },
     "output_type": "display_data"
    }
   ],
   "source": [
    "# create the dendrogram\n",
    "from scipy.cluster import hierarchy as hc\n",
    "from scipy.stats import spearmanr as sp\n",
    "import matplotlib.pyplot as plt\n",
    "%matplotlib inline\n",
    "\n",
    "corr = np.round(sp(data_for_cluster).correlation, 4)\n",
    "corr_condensed = hc.distance.squareform(1-corr)\n",
    "z = hc.linkage(corr_condensed, method='average')\n",
    "fig = plt.figure(figsize=(20,35))\n",
    "dendrogram = hc.dendrogram(z, labels=vals_to_keep, orientation='left', leaf_font_size=14)\n",
    "plt.show()"
   ]
  },
  {
   "cell_type": "code",
   "execution_count": null,
   "metadata": {},
   "outputs": [],
   "source": []
  },
  {
   "cell_type": "code",
   "execution_count": null,
   "metadata": {},
   "outputs": [],
   "source": []
  },
  {
   "cell_type": "code",
   "execution_count": null,
   "metadata": {},
   "outputs": [],
   "source": []
  },
  {
   "cell_type": "code",
   "execution_count": null,
   "metadata": {},
   "outputs": [],
   "source": []
  },
  {
   "cell_type": "markdown",
   "metadata": {},
   "source": [
    "## Training and Test Sets"
   ]
  },
  {
   "cell_type": "code",
   "execution_count": 46,
   "metadata": {},
   "outputs": [],
   "source": [
    "# create x and y columns\n",
    "X = df.loc[:, df.columns != 'Consideration']\n",
    "y = df['Consideration']"
   ]
  },
  {
   "cell_type": "code",
   "execution_count": 41,
   "metadata": {},
   "outputs": [],
   "source": [
    "X_std = (X - X.mean()) / X.std()"
   ]
  },
  {
   "cell_type": "code",
   "execution_count": 42,
   "metadata": {},
   "outputs": [],
   "source": [
    "from sklearn.model_selection import train_test_split\n",
    "\n",
    "X_train, X_test, y_train, y_test = train_test_split(X_std, y, test_size=0.2, random_state=17)"
   ]
  },
  {
   "cell_type": "markdown",
   "metadata": {},
   "source": [
    "## Random Forest"
   ]
  },
  {
   "cell_type": "code",
   "execution_count": null,
   "metadata": {},
   "outputs": [],
   "source": []
  },
  {
   "cell_type": "code",
   "execution_count": null,
   "metadata": {},
   "outputs": [],
   "source": []
  },
  {
   "cell_type": "code",
   "execution_count": null,
   "metadata": {},
   "outputs": [],
   "source": []
  },
  {
   "cell_type": "code",
   "execution_count": null,
   "metadata": {},
   "outputs": [],
   "source": []
  },
  {
   "cell_type": "code",
   "execution_count": null,
   "metadata": {},
   "outputs": [],
   "source": [
    "df = pd.get_dummies(df, drop_first=True)\n",
    "df.head()"
   ]
  }
 ],
 "metadata": {
  "kernelspec": {
   "display_name": "Python 3",
   "language": "python",
   "name": "python3"
  },
  "language_info": {
   "codemirror_mode": {
    "name": "ipython",
    "version": 3
   },
   "file_extension": ".py",
   "mimetype": "text/x-python",
   "name": "python",
   "nbconvert_exporter": "python",
   "pygments_lexer": "ipython3",
   "version": "3.7.3"
  }
 },
 "nbformat": 4,
 "nbformat_minor": 2
}
